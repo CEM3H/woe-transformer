{
 "cells": [
  {
   "cell_type": "markdown",
   "metadata": {},
   "source": [
    "# Разработка и поддержка библиотеки ZenitAI"
   ]
  },
  {
   "cell_type": "markdown",
   "metadata": {},
   "source": [
    "## Общие положения"
   ]
  },
  {
   "cell_type": "markdown",
   "metadata": {},
   "source": [
    "1. ZenitAI - это Python-библиотека\n",
    "2. Версионируется с помомощью git и setuptools\n",
    "3. Проект использует автоматические форматтеры кода и линтеры"
   ]
  },
  {
   "cell_type": "markdown",
   "metadata": {},
   "source": [
    "### Расположение репозитория"
   ]
  },
  {
   "cell_type": "markdown",
   "metadata": {},
   "source": [
    "Основной репозиторий с проектом хранится в общей папке:  \n",
    "    \n",
    "    K:\\ДМиРТ\\Управление моделирования\\#Zenit.ai\\git_repos\\zenitai-lib.git\n"
   ]
  },
  {
   "cell_type": "markdown",
   "metadata": {},
   "source": [
    "### Требуемые пакеты Python"
   ]
  },
  {
   "cell_type": "markdown",
   "metadata": {},
   "source": [
    "- python\n",
    "- numpy\n",
    "- pandas\n",
    "- matplotlib\n",
    "- scikit-learn\n",
    "- openpyxl\n",
    "- ipython\n",
    "- tqdm\n",
    "- scipy"
   ]
  },
  {
   "cell_type": "markdown",
   "metadata": {},
   "source": [
    "### Ссылки на источники"
   ]
  },
  {
   "cell_type": "markdown",
   "metadata": {},
   "source": [
    "- Настройка git на сервере: \n",
    "    [ссылка](https://git-scm.com/book/ru/v2/Git-%D0%BD%D0%B0-%D1%81%D0%B5%D1%80%D0%B2%D0%B5%D1%80%D0%B5-%D0%9F%D1%80%D0%BE%D1%82%D0%BE%D0%BA%D0%BE%D0%BB%D1%8B)\n",
    "- Блог-пост про git-hooks и автоформаттеры:\n",
    "    [ссылка](https://ternaus.blog/tutorial/2020/08/28/Trained-model-what-is-next.html)\n"
   ]
  },
  {
   "cell_type": "markdown",
   "metadata": {},
   "source": [
    "## Структура решения"
   ]
  },
  {
   "cell_type": "markdown",
   "metadata": {},
   "source": [
    "\n",
    "Папка с проектом на данный момент выглядит так\n",
    "![tree](img/tree.PNG)sadsad"
   ]
  },
  {
   "cell_type": "markdown",
   "metadata": {},
   "source": [
    "Краткое описание папок:  \n",
    "- `build` - содержит файлы, необходимые для сборки пакета\n",
    "- `dist` - содержит архивы со всеми собранными версиями библиотеки - из этих архивов можно устанавливать через `pip install`\n",
    "- `docs` - содержит файлы, необходимые для автоматического создания документации. Документация генерируется на основе docstrings функциях/классах и этих файлах с помощью библиотеки _Sphinx_\n",
    "    - `tutorial` - здесь лежит этот гайд\n",
    "- `zenitai` - папка с исходным кодом проекта  \n",
    "   - `experiment` - класс Experiment для контроля экспериментов и запусков моделей\n",
    "   - `transform` - инструменты для преобразования данных (в частности - WoE-трансформер)\n",
    "   - `utils` - функции, которым пока не нашлось отдельного раздела: функции-хелперы, функции для вычисления метрик (вроде расчета Gini на основе ROC AUC и отрисовки самих ROC-кривых)\n",
    "- `ZenitAI.egg-info` - служебные данные, которые создаются при установке пакета\n",
    "\n",
    "Краткое описание файлов:\n",
    "- `.gitignore` - список файлов, папок и шаблонов, которые будут игнорироваться гитом при версионировании\n",
    "- `pyproject.toml` - содержит конфиг для автоматического форматтера кода `black`\n",
    "- `setup.cfg` - конфиг для модуля `setuptools` и для линтера `flake8`\n",
    "- `setup.py` - тоже конфиг для модуля `setuptools`\n",
    "\n",
    "Кроме того, есть еще файлы с конфигами:\n",
    "- `.pre-commit-config.yaml` - конфиг для git-хуков (git-hooks). Нужен для автоматического форматирования, линтинга (проверки на соответствие стиля кода) и проверки кода при коммитах в git. При коммите будет предпринята попытка отформатировать код, если она будет неудачной, коммит сделать не получится до устранения замечаний. Это нужно, чтобы поддерживать код в читабельном состоянии и для соблюдения некоторых правил оформления в случае совместной работы "
   ]
  },
  {
   "cell_type": "markdown",
   "metadata": {},
   "source": [
    "## Начало работы"
   ]
  },
  {
   "cell_type": "markdown",
   "metadata": {},
   "source": [
    "Предлагаю организовать работу над библиотекой в таком формате:\n",
    "- Разработка и отладка функционала библиотеки локально на рабочем ПК\n",
    "- Сборка библиотеки под новой версией \n",
    "- Сохранение результатов в git-репозитории в общей папке\n",
    "- Подтягивание обновленного статуса проекта в личную папку пользователя `dashboards_dev`\n"
   ]
  },
  {
   "cell_type": "markdown",
   "metadata": {},
   "source": [
    "**Более подробно:**  \n",
    "\n",
    "0. Установить git на рабочий ПК: \n",
    "    [ссылка для скачивания](https://git-scm.com/download/win)\n",
    "1. Склонировать репозиторий на рабочий ПК: в терминале (в командной строке, или в git bash, или в терминале IDE) набрать  \n",
    "        git clone \"K:\\ДМиРТ\\Управление моделирования\\#Zenit.ai\\zenitai\" <путь к папке, где будет лежать проект>\n",
    "2. Создать и активировать виртуальное окружение для проекта:\n",
    "        conda create -n <environment_name> \n",
    "        conda activate dashboards\n",
    "        conda install pandas numpy <...>\n",
    "        cd <полный путь к папке>     #перемещение консоли в папку проекта\n",
    "3. Установить пакет в режиме редактирования:\n",
    "        pip install -e .\n",
    "   Это позволит импортировать подмодули проекта в самих файлах, а также установит в окружение (почти) ве нужные библиотеки\n",
    "4. Внести нужные изменения  \n",
    "5. Проверить, что локально функционал работает так, как задумано\n",
    "6. Изменить номер версии библиотеки в файле `setup.py` в корне папки с библиотекой:\n",
    "    ![version](img/version.PNG)\n",
    "    \n",
    "    \n",
    "7. Сгенерировать документацию с помощью библиотеки [Sphinx](https://www.sphinx-doc.org/en/master/). Документация генерируется в виде сайта на основе специальных файлов разметки формата [reStructuredText](https://ru.wikipedia.org/wiki/ReStructuredText) и docstrings, прописанных в функциях и классах.  \n",
    "    Чтобы запустить автоматическую генерацию документации, нужно, находясь в папке с проектом, выполнить в консоли команду \n",
    "        make html\n",
    "    ![make_html](img/make.PNG)\n",
    "    \n",
    "    В результате должна появиться серия сообщений вроде этой:\n",
    "    ![make_res](img/make_res.PNG)\n",
    "        \n",
    "8. [Если накопилось достаточно изменений для нового релиза], необходимо создать новую версию библиотеки c помощью `setuptools`:\n",
    "        python -m setup sdist\n",
    "    ![setup](img/setup.PNG)\n",
    "6. Отправить изменения в центральный репозиторий\n",
    "        git add .\n",
    "        git commit -m '<текст сообщения>'\n",
    "        git push origin master\n",
    "7. Изменения в общей папке применятся автоматически.  \n",
    "   Чтобы применить изменения вручную, можно сделать следующее:\n",
    "    - Открыть в проводнике папку _K:\\ДМиРТ\\Управление моделирования\\\\#Zenit.ai\\zenitai_\n",
    "    - Кликнуть правой кнопкой по пустому месту в папке, выбрать пункт `Git Bash here`\n",
    "        ![git_bash](img/git_bash.PNG)\n",
    "    - Выполнить команду для получения изменений  \n",
    "            git pull origin master"
   ]
  }
 ],
 "metadata": {
  "jupytext": {
   "cell_metadata_filter": "-all",
   "encoding": "# -*- coding: utf-8 -*-",
   "notebook_metadata_filter": "-all",
   "text_representation": {
    "extension": ".py",
    "format_name": "percent",
    "format_version": "1.3",
    "jupytext_version": "1.5.2"
   }
  },
  "kernelspec": {
   "display_name": "Python 3",
   "language": "python",
   "name": "python3"
  },
  "language_info": {
   "codemirror_mode": {
    "name": "ipython",
    "version": 3
   },
   "file_extension": ".py",
   "mimetype": "text/x-python",
   "name": "python",
   "nbconvert_exporter": "python",
   "pygments_lexer": "ipython3",
   "version": "3.7.3"
  },
  "toc": {
   "base_numbering": 1,
   "nav_menu": {},
   "number_sections": true,
   "sideBar": true,
   "skip_h1_title": true,
   "title_cell": "Table of Contents",
   "title_sidebar": "Contents",
   "toc_cell": false,
   "toc_position": {},
   "toc_section_display": true,
   "toc_window_display": false
  }
 },
 "nbformat": 4,
 "nbformat_minor": 4
}
