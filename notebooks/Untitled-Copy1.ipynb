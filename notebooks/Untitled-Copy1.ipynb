{
 "cells": [
  {
   "cell_type": "code",
   "execution_count": 182,
   "metadata": {
    "ExecuteTime": {
     "end_time": "2020-07-03T17:02:53.905951Z",
     "start_time": "2020-07-03T17:02:53.858766Z"
    },
    "lines_to_next_cell": 2
   },
   "outputs": [],
   "source": [
    "import sys"
   ]
  },
  {
   "cell_type": "code",
   "execution_count": 183,
   "metadata": {
    "ExecuteTime": {
     "end_time": "2020-07-03T17:02:54.811316Z",
     "start_time": "2020-07-03T17:02:54.783465Z"
    }
   },
   "outputs": [
    {
     "name": "stdout",
     "output_type": "stream",
     "text": [
      "The autoreload extension is already loaded. To reload it, use:\n",
      "  %reload_ext autoreload\n"
     ]
    }
   ],
   "source": [
    "import json\n",
    "import warnings\n",
    "import math\n",
    "warnings.filterwarnings(\"ignore\")\n",
    "\n",
    "import pandas as pd\n",
    "import numpy as np\n",
    "import matplotlib.pyplot as plt\n",
    "from woeTransformer_class import WoeTransformer, WoeTransformerRegularized\n",
    "\n",
    "from collections import defaultdict\n",
    "from tqdm.notebook import tqdm\n",
    "from scipy.stats import spearmanr\n",
    "from scipy.cluster import hierarchy\n",
    "from sklearn.linear_model import LogisticRegression\n",
    "from sklearn.inspection import permutation_importance\n",
    "from sklearn.model_selection import train_test_split, TimeSeriesSplit, GridSearchCV, StratifiedKFold\n",
    "from sklearn.metrics import roc_auc_score\n",
    "from sklearn.pipeline import Pipeline\n",
    "\n",
    "from woeTransformer_class import WoeTransformer\n",
    "from functions import auc_to_gini\n",
    "\n",
    "%load_ext autoreload\n",
    "%aimport functions\n",
    "%aimport woeTransformer_class\n",
    "%autoreload 1"
   ]
  },
  {
   "cell_type": "code",
   "execution_count": 397,
   "metadata": {
    "ExecuteTime": {
     "end_time": "2020-07-03T19:11:50.450594Z",
     "start_time": "2020-07-03T19:11:49.717910Z"
    }
   },
   "outputs": [
    {
     "data": {
      "text/plain": [
       "WoeTransformer(min_sample_rate=0.05, min_count=3, n_fitted_predictors=10)"
      ]
     },
     "execution_count": 397,
     "metadata": {},
     "output_type": "execute_result"
    }
   ],
   "source": [
    "vanilla = WoeTransformer()\n"
   ]
  },
  {
   "cell_type": "code",
   "execution_count": 388,
   "metadata": {
    "ExecuteTime": {
     "end_time": "2020-07-03T19:04:39.772315Z",
     "start_time": "2020-07-03T19:04:39.769279Z"
    }
   },
   "outputs": [],
   "source": [
    "n_seeds = 10\n",
    "alphas = [0.0001, 0.001, 0.01, 0.1, 1, 10]"
   ]
  },
  {
   "cell_type": "code",
   "execution_count": 398,
   "metadata": {
    "ExecuteTime": {
     "end_time": "2020-07-03T19:13:35.250809Z",
     "start_time": "2020-07-03T19:12:55.764500Z"
    },
    "lines_to_next_cell": 2,
    "scrolled": true
   },
   "outputs": [
    {
     "ename": "IndexError",
     "evalue": "list index out of range",
     "output_type": "error",
     "traceback": [
      "\u001b[1;31m---------------------------------------------------------------------------\u001b[0m",
      "\u001b[1;31mIndexError\u001b[0m                                Traceback (most recent call last)",
      "\u001b[1;32m<ipython-input-398-972edb5f5d73>\u001b[0m in \u001b[0;36m<module>\u001b[1;34m\u001b[0m\n\u001b[0;32m      1\u001b[0m \u001b[0mregul\u001b[0m \u001b[1;33m=\u001b[0m \u001b[0mWoeTransformerRegularized\u001b[0m\u001b[1;33m(\u001b[0m\u001b[0malphas\u001b[0m\u001b[1;33m=\u001b[0m\u001b[0malphas\u001b[0m\u001b[1;33m,\u001b[0m \u001b[0mn_seeds\u001b[0m\u001b[1;33m=\u001b[0m\u001b[1;36m10\u001b[0m\u001b[1;33m)\u001b[0m\u001b[1;33m\u001b[0m\u001b[1;33m\u001b[0m\u001b[0m\n\u001b[1;32m----> 2\u001b[1;33m \u001b[0mregul\u001b[0m\u001b[1;33m.\u001b[0m\u001b[0mfit\u001b[0m\u001b[1;33m(\u001b[0m\u001b[0mdata\u001b[0m\u001b[1;33m[\u001b[0m\u001b[0mcols\u001b[0m\u001b[1;33m]\u001b[0m\u001b[1;33m.\u001b[0m\u001b[0mastype\u001b[0m\u001b[1;33m(\u001b[0m\u001b[0mstr\u001b[0m\u001b[1;33m)\u001b[0m\u001b[1;33m.\u001b[0m\u001b[0mreplace\u001b[0m\u001b[1;33m(\u001b[0m\u001b[1;33m{\u001b[0m\u001b[1;34m'nan'\u001b[0m\u001b[1;33m:\u001b[0m\u001b[0mnp\u001b[0m\u001b[1;33m.\u001b[0m\u001b[0mnan\u001b[0m\u001b[1;33m}\u001b[0m\u001b[1;33m)\u001b[0m\u001b[1;33m,\u001b[0m \u001b[0mdata\u001b[0m\u001b[1;33m[\u001b[0m\u001b[1;34m'mob12_90'\u001b[0m\u001b[1;33m]\u001b[0m\u001b[1;33m)\u001b[0m\u001b[1;33m\u001b[0m\u001b[1;33m\u001b[0m\u001b[0m\n\u001b[0m",
      "\u001b[1;32m~\\Desktop\\Проекты\\zenitai-lib\\woeTransformer_class.py\u001b[0m in \u001b[0;36mfit\u001b[1;34m(self, X, y, cat_values)\u001b[0m\n\u001b[0;32m    747\u001b[0m         \u001b[1;31m# self._grouping(X, y)\u001b[0m\u001b[1;33m\u001b[0m\u001b[1;33m\u001b[0m\u001b[1;33m\u001b[0m\u001b[0m\n\u001b[0;32m    748\u001b[0m         \u001b[1;31m# Расчет WOE и IV\u001b[0m\u001b[1;33m\u001b[0m\u001b[1;33m\u001b[0m\u001b[1;33m\u001b[0m\u001b[0m\n\u001b[1;32m--> 749\u001b[1;33m         \u001b[0mself\u001b[0m\u001b[1;33m.\u001b[0m\u001b[0m_fit_numeric\u001b[0m\u001b[1;33m(\u001b[0m\u001b[0mX\u001b[0m\u001b[1;33m,\u001b[0m \u001b[0my\u001b[0m\u001b[1;33m)\u001b[0m\u001b[1;33m\u001b[0m\u001b[1;33m\u001b[0m\u001b[0m\n\u001b[0m\u001b[0;32m    750\u001b[0m         \u001b[1;31m# Поиск потенциальных групп\u001b[0m\u001b[1;33m\u001b[0m\u001b[1;33m\u001b[0m\u001b[1;33m\u001b[0m\u001b[0m\n\u001b[0;32m    751\u001b[0m         \u001b[1;31m# Поиск \"плохих\" групп\u001b[0m\u001b[1;33m\u001b[0m\u001b[1;33m\u001b[0m\u001b[1;33m\u001b[0m\u001b[0m\n",
      "\u001b[1;32m~\\Desktop\\Проекты\\zenitai-lib\\woeTransformer_class.py\u001b[0m in \u001b[0;36m_fit_numeric\u001b[1;34m(self, X, y)\u001b[0m\n\u001b[0;32m    365\u001b[0m \u001b[1;33m\u001b[0m\u001b[0m\n\u001b[0;32m    366\u001b[0m         \u001b[1;32mfor\u001b[0m \u001b[0mi\u001b[0m \u001b[1;32min\u001b[0m \u001b[0mX\u001b[0m\u001b[1;33m:\u001b[0m\u001b[1;33m\u001b[0m\u001b[1;33m\u001b[0m\u001b[0m\n\u001b[1;32m--> 367\u001b[1;33m             \u001b[0mres_i\u001b[0m \u001b[1;33m=\u001b[0m \u001b[0mself\u001b[0m\u001b[1;33m.\u001b[0m\u001b[0m_fit_single\u001b[0m\u001b[1;33m(\u001b[0m\u001b[0mX\u001b[0m\u001b[1;33m[\u001b[0m\u001b[0mi\u001b[0m\u001b[1;33m]\u001b[0m\u001b[1;33m,\u001b[0m \u001b[0my\u001b[0m\u001b[1;33m)\u001b[0m\u001b[1;33m\u001b[0m\u001b[1;33m\u001b[0m\u001b[0m\n\u001b[0m\u001b[0;32m    368\u001b[0m             \u001b[0mres\u001b[0m \u001b[1;33m=\u001b[0m \u001b[0mres\u001b[0m\u001b[1;33m.\u001b[0m\u001b[0mappend\u001b[0m\u001b[1;33m(\u001b[0m\u001b[0mres_i\u001b[0m\u001b[1;33m)\u001b[0m\u001b[1;33m\u001b[0m\u001b[1;33m\u001b[0m\u001b[0m\n\u001b[0;32m    369\u001b[0m             \u001b[0mself\u001b[0m\u001b[1;33m.\u001b[0m\u001b[0mpredictors\u001b[0m\u001b[1;33m.\u001b[0m\u001b[0mappend\u001b[0m\u001b[1;33m(\u001b[0m\u001b[0mi\u001b[0m\u001b[1;33m)\u001b[0m\u001b[1;33m\u001b[0m\u001b[1;33m\u001b[0m\u001b[0m\n",
      "\u001b[1;32m~\\Desktop\\Проекты\\zenitai-lib\\woeTransformer_class.py\u001b[0m in \u001b[0;36m_fit_single\u001b[1;34m(self, x, y)\u001b[0m\n\u001b[0;32m    327\u001b[0m                 \u001b[0mgr_subset_num\u001b[0m\u001b[1;33m[\u001b[0m\u001b[1;34m'value'\u001b[0m\u001b[1;33m]\u001b[0m \u001b[1;33m=\u001b[0m \u001b[0mpd\u001b[0m\u001b[1;33m.\u001b[0m\u001b[0mto_numeric\u001b[0m\u001b[1;33m(\u001b[0m\u001b[0mgr_subset_num\u001b[0m\u001b[1;33m[\u001b[0m\u001b[1;34m'value'\u001b[0m\u001b[1;33m]\u001b[0m\u001b[1;33m)\u001b[0m\u001b[1;33m\u001b[0m\u001b[1;33m\u001b[0m\u001b[0m\n\u001b[0;32m    328\u001b[0m                 borders = self._monotonic_borders(gr_subset_num, \n\u001b[1;32m--> 329\u001b[1;33m                                                 self.trend_coefs[col])\n\u001b[0m\u001b[0;32m    330\u001b[0m                 \u001b[0mself\u001b[0m\u001b[1;33m.\u001b[0m\u001b[0mborders\u001b[0m\u001b[1;33m.\u001b[0m\u001b[0mupdate\u001b[0m\u001b[1;33m(\u001b[0m\u001b[1;33m{\u001b[0m\u001b[0mcol\u001b[0m\u001b[1;33m:\u001b[0m\u001b[0mborders\u001b[0m\u001b[1;33m}\u001b[0m\u001b[1;33m)\u001b[0m\u001b[1;33m\u001b[0m\u001b[1;33m\u001b[0m\u001b[0m\n\u001b[0;32m    331\u001b[0m                 \u001b[1;31m# Применение границ к сгруппированным данным\u001b[0m\u001b[1;33m\u001b[0m\u001b[1;33m\u001b[0m\u001b[1;33m\u001b[0m\u001b[0m\n",
      "\u001b[1;32m~\\Desktop\\Проекты\\zenitai-lib\\woeTransformer_class.py\u001b[0m in \u001b[0;36m_monotonic_borders\u001b[1;34m(self, DF_grouping, p)\u001b[0m\n\u001b[0;32m    469\u001b[0m \u001b[1;33m\u001b[0m\u001b[0m\n\u001b[0;32m    470\u001b[0m         \u001b[1;31m# Проверка последней добавленной группы\u001b[0m\u001b[1;33m\u001b[0m\u001b[1;33m\u001b[0m\u001b[1;33m\u001b[0m\u001b[0m\n\u001b[1;32m--> 471\u001b[1;33m         \u001b[0mDF_iter\u001b[0m \u001b[1;33m=\u001b[0m \u001b[0mDF_grouping\u001b[0m\u001b[1;33m.\u001b[0m\u001b[0mloc\u001b[0m\u001b[1;33m[\u001b[0m\u001b[0mDF_grouping\u001b[0m\u001b[1;33m[\u001b[0m\u001b[1;34m'value'\u001b[0m\u001b[1;33m]\u001b[0m \u001b[1;33m>\u001b[0m \u001b[0mR_borders\u001b[0m\u001b[1;33m[\u001b[0m\u001b[1;33m-\u001b[0m\u001b[1;36m1\u001b[0m\u001b[1;33m]\u001b[0m\u001b[1;33m]\u001b[0m\u001b[1;33m\u001b[0m\u001b[1;33m\u001b[0m\u001b[0m\n\u001b[0m\u001b[0;32m    472\u001b[0m         \u001b[0msample_rate_i\u001b[0m \u001b[1;33m=\u001b[0m \u001b[0mDF_iter\u001b[0m\u001b[1;33m[\u001b[0m\u001b[1;34m'sample_rate'\u001b[0m\u001b[1;33m]\u001b[0m\u001b[1;33m.\u001b[0m\u001b[0msum\u001b[0m\u001b[1;33m(\u001b[0m\u001b[1;33m)\u001b[0m  \u001b[1;31m# доля выборки\u001b[0m\u001b[1;33m\u001b[0m\u001b[1;33m\u001b[0m\u001b[0m\n\u001b[0;32m    473\u001b[0m         \u001b[0msample_count_i\u001b[0m \u001b[1;33m=\u001b[0m \u001b[0mDF_iter\u001b[0m\u001b[1;33m[\u001b[0m\u001b[1;34m'sample_count'\u001b[0m\u001b[1;33m]\u001b[0m\u001b[1;33m.\u001b[0m\u001b[0msum\u001b[0m\u001b[1;33m(\u001b[0m\u001b[1;33m)\u001b[0m  \u001b[1;31m# количество наблюдений\u001b[0m\u001b[1;33m\u001b[0m\u001b[1;33m\u001b[0m\u001b[0m\n",
      "\u001b[1;31mIndexError\u001b[0m: list index out of range"
     ]
    }
   ],
   "source": [
    "regul = WoeTransformerRegularized(alphas=alphas, n_seeds=10)\n",
    "regul.fit(data[cols].astype(str).replace({'nan':np.nan}), )"
   ]
  },
  {
   "cell_type": "code",
   "execution_count": 373,
   "metadata": {
    "ExecuteTime": {
     "end_time": "2020-07-03T18:53:29.114158Z",
     "start_time": "2020-07-03T18:53:28.945370Z"
    },
    "deletable": false,
    "editable": false,
    "run_control": {
     "frozen": true
    },
    "scrolled": true
   },
   "outputs": [
    {
     "data": {
      "text/plain": [
       "0"
      ]
     },
     "execution_count": 373,
     "metadata": {},
     "output_type": "execute_result"
    }
   ],
   "source": [
    "# Проверка группировки функцией и классом\n",
    "regul_grouping = (regul.grouped[['predictor', 'sample_count', 'target_count', 'value']]\n",
    "                  .sort_values(['predictor', 'value'])\n",
    "                  .reset_index(drop=True)\n",
    "                  .replace({'nan':'NO_INFO'}))\n",
    "\n",
    "test_grouping = pd.DataFrame()\n",
    "for col in cols:\n",
    "    tmp = cat_features_alpha_logloss(data, col, 'mob12_90', alphas, n_seeds)\n",
    "    tmp.insert(0, 'predictor', col)\n",
    "    test_grouping = test_grouping.append(tmp.rename(columns={'groups':'value'}))\n",
    "\n",
    "test_grouping.sort_values(['predictor', 'value'], inplace=True)\n",
    "test_grouping.reset_index(drop=True, inplace=True)\n",
    "test_grouping.shape\n",
    "(test_grouping == regul_grouping).sum().sum() - regul_grouping.shape[0] * regul_grouping.shape[1]"
   ]
  },
  {
   "cell_type": "code",
   "execution_count": 368,
   "metadata": {
    "ExecuteTime": {
     "end_time": "2020-07-03T18:50:32.098173Z",
     "start_time": "2020-07-03T18:50:31.876664Z"
    },
    "deletable": false,
    "editable": false,
    "run_control": {
     "frozen": true
    }
   },
   "outputs": [
    {
     "data": {
      "text/plain": [
       "0"
      ]
     },
     "execution_count": 368,
     "metadata": {},
     "output_type": "execute_result"
    }
   ],
   "source": [
    "# Проверка расчета статистик функцией и классом\n",
    "regul_stats = (regul.stats[test_stats.columns]\n",
    "              .sort_values(['predictor', 'groups'])\n",
    "              .reset_index(drop=True)\n",
    "              .replace({'nan':'NO_INFO'}))\n",
    "\n",
    "test_stats = pd.DataFrame()\n",
    "for col in cols:\n",
    "    tmp = cat_features_alpha_logloss(data, col, 'mob12_90', alphas, n_seeds)\n",
    "    tmp.insert(0, 'predictor', col)\n",
    "    test_stats = test_stats.append(tmp)\n",
    "\n",
    "test_stats.sort_values(['predictor', 'groups'], inplace=True)\n",
    "test_stats.reset_index(drop=True, inplace=True)\n",
    "(test_stats.round(6) == regul_stats.round(6)).sum().sum() - regul_stats.shape[0] * regul_stats.shape[1]"
   ]
  },
  {
   "cell_type": "code",
   "execution_count": null,
   "metadata": {
    "ExecuteTime": {
     "end_time": "2020-07-03T19:07:39.853780Z",
     "start_time": "2020-07-03T19:06:58.385159Z"
    }
   },
   "outputs": [],
   "source": [
    "# Проверка расчета статистик функцией и классом\n",
    "# regul_stats = (regul.stats[test_stats.columns]\n",
    "#               .sort_values(['predictor', 'groups'])\n",
    "#               .reset_index(drop=True)\n",
    "#               .replace({'nan':'NO_INFO'}))\n",
    "\n",
    "test_stats = pd.DataFrame()\n",
    "for col in cols:\n",
    "    tmp = cat_features_alpha_logloss(data, col, 'mob12_90', alphas, n_seeds)\n",
    "    print(col, tmp)"
   ]
  },
  {
   "cell_type": "code",
   "execution_count": 395,
   "metadata": {
    "ExecuteTime": {
     "end_time": "2020-07-03T19:07:39.853780Z",
     "start_time": "2020-07-03T19:06:58.385159Z"
    }
   },
   "outputs": [
    {
     "name": "stdout",
     "output_type": "stream",
     "text": [
      "enq_w_cl_93d 0.001\n",
      "okb_worst_status_1 0.0001\n",
      "okb_worst_status_6 0.0001\n",
      "okb_worst_status_6_notnull 0.0001\n",
      "okb_worst_status_3_notnull 0.0001\n",
      "okb_worst_status_3 0.0001\n",
      "okb_worst_status_1_notnull 0.0001\n",
      "enq_w_cl_30d 0.001\n",
      "okb_worst_status_12_notnull 0.0001\n",
      "okb_worst_status_12 0.0001\n"
     ]
    },
    {
     "data": {
      "text/plain": [
       "{'okb_worst_status_6_notnull': 0.0001,\n",
       " 'okb_worst_status_3_notnull': 0.0001,\n",
       " 'okb_worst_status_1_notnull': 0.0001,\n",
       " 'okb_worst_status_12_notnull': 0.0001}"
      ]
     },
     "execution_count": 395,
     "metadata": {},
     "output_type": "execute_result"
    }
   ],
   "source": [
    "regul.alpha_values"
   ]
  },
  {
   "cell_type": "code",
   "execution_count": 379,
   "metadata": {
    "ExecuteTime": {
     "end_time": "2020-07-03T19:00:48.162473Z",
     "start_time": "2020-07-03T19:00:48.156485Z"
    }
   },
   "outputs": [],
   "source": [
    "# функция WOE преобразования и расчета IV для датафрейма с готовой группировкой\n",
    "def IVWOE(DF_groups):\n",
    "    \"\"\"\n",
    "    Функция WOE преобразования и расчета IV для датафрейма с готовой группировкой\n",
    "    Расчет статистики по группам\n",
    "    DF_groups[['sample_count', 'target_count', 'groups']] - таблица данных по группам\n",
    "    \"\"\"\n",
    "    nothing = 10 ** -6 # для случаев когда нет целевых событий для значения переменной\n",
    "    DF_statistic = DF_groups\n",
    "    DF_statistic['sample_rate'] = DF_statistic['sample_count'] / DF_statistic['sample_count'].sum()\n",
    "    DF_statistic['target_rate'] = DF_statistic['target_count'] / DF_statistic['sample_count']\n",
    "    \n",
    "    # Расчет WoE и IV\n",
    "    samples_num = DF_statistic['sample_count'].sum()\n",
    "    events = DF_statistic['target_count'].sum()\n",
    "    non_events = samples_num - events\n",
    "    \n",
    "    DF_statistic['non_events_i'] = DF_statistic['sample_count'] - DF_statistic['target_count']\n",
    "    DF_statistic['event_rate_i'] = DF_statistic['target_count'] / events\n",
    "    DF_statistic['non_event_rate_i'] = DF_statistic['non_events_i'] / non_events\n",
    "    \n",
    "    DF_statistic['WOE'] = [math.log(DF_statistic['non_event_rate_i'][i] / (DF_statistic['event_rate_i'][i] + nothing) + nothing) for i in DF_statistic.index]\n",
    "    DF_statistic['IV'] = DF_statistic['WOE'] * (DF_statistic['non_event_rate_i'] - DF_statistic['event_rate_i'])\n",
    "   \n",
    "    return DF_statistic"
   ]
  },
  {
   "cell_type": "code",
   "execution_count": 381,
   "metadata": {
    "ExecuteTime": {
     "end_time": "2020-07-03T19:01:48.438171Z",
     "start_time": "2020-07-03T19:01:48.409565Z"
    }
   },
   "outputs": [],
   "source": [
    "# функция расчета IV, GINI и logloss для категориальных переменных с корректировкой целевой по alpha\n",
    "from sklearn.metrics import log_loss\n",
    "\n",
    "\n",
    "def cat_features_alpha_logloss(df, predictor, target, alpha, seed = 100, plot_i = False):\n",
    "    \"\"\"\n",
    "    функция расчета IV, GINI и logloss для категориальных переменных с корректировкой целевой по alpha\n",
    "    \n",
    "    \"\"\"\n",
    "\n",
    "    L_logloss_mean = []\n",
    "    GINI_IV_mean = []\n",
    "    for alpha_i in alpha:\n",
    "        logloss_i = []\n",
    "        GINI_i = []\n",
    "        IV_i = []\n",
    "        for seed_i in range(seed):\n",
    "            X_train, X_test, y_train, y_test = train_test_split(df[[predictor]], df[target], \n",
    "                                                    test_size=0.3, random_state=seed_i, stratify=df[target])\n",
    "            X_train = X_train.fillna('NO_INFO').astype(str)\n",
    "            X_test = X_test.fillna('NO_INFO').astype(str)\n",
    "            X_train[target] = y_train\n",
    "            X_test[target] = y_test\n",
    "            X_test = X_test[[predictor, target]]\n",
    "            X_test_WOE = pd.DataFrame()\n",
    "            X_test_WOE['Target'] = X_test[target]\n",
    "            \n",
    "            tmp = pd.crosstab(X_train[predictor], X_train[target], normalize='index')\n",
    "            tmp.rename(columns={0:'Non Target', 1:'Target'}, inplace=True)\n",
    "            tmp_values = pd.DataFrame({predictor: X_train[predictor].value_counts().index,\n",
    "                                       'Values' : X_train[predictor].value_counts().values})\n",
    "            tmp = pd.merge(tmp, tmp_values, how='left', on=predictor)\n",
    "            tmp['Target_cnt'] = [int(x) for x in (tmp['Target'] * tmp['Values'])]\n",
    "            \n",
    "            # расчет оптимальной целевой для группы, формула и детали в видео\n",
    "            # https://www.youtube.com/watch?v=g335THJxkto&list=PLLIunAIxCvT8ZYpC6-X7H0QfAQO9H0f-8&index=12&t=0s\n",
    "            # pd = (y_local * K + Y_global * alpha) / (K + alpha)\n",
    "            Y_global = y_train.mean()\n",
    "            tmp['Target_transformed'] = ((tmp['Target']) * (tmp['Values'] / X_train.shape[0]) + Y_global * alpha_i) / ((tmp['Values'] / X_train.shape[0]) + alpha_i)\n",
    "            tmp['Target_cnt_transformed'] = [math.floor(x) for x in tmp['Values'] * tmp['Target_transformed']]\n",
    "            \n",
    "            # если пустых значений = 1 - необходимо добавить в таблицу это значение\n",
    "            if 'NO_INFO' not in tmp[predictor].values:\n",
    "                print('hi')\n",
    "                tmp = tmp.append({predictor : 'NO_INFO',\n",
    "                                'Non Target' : df[(df[predictor] == 'NO_INFO') & (df[target] == 0)].shape[0],\n",
    "                                'Target' : df[(df[predictor] == 'NO_INFO') & (df[target] == 1)].shape[0],\n",
    "                                'Values' : df[(df[predictor] == 'NO_INFO')].shape[0],\n",
    "                                'Target_cnt' : df[(df[predictor] == 'NO_INFO') & (df[target] == 1)].shape[0],\n",
    "                                'Target_transformed' : X_train[target].mean(),\n",
    "                                'Target_cnt_transformed' : (df[(df[predictor] == 'NO_INFO')].shape[0]) * X_train[target].mean()\n",
    "                               }, ignore_index=True)\n",
    "\n",
    "            tmp.sort_values(by = 'Values', inplace=True, ascending=False)\n",
    "            tmp = tmp.reset_index(drop=True)\n",
    "            order = list(tmp[predictor])\n",
    "            \n",
    "            # расчет WOE и IV на Train\n",
    "            df_i = tmp[['Values', 'Target_cnt_transformed', predictor]]\n",
    "            df_i.rename(columns={'Values' : 'sample_count', \n",
    "                                 'Target_cnt_transformed' : 'target_count',\n",
    "                                  predictor : 'groups'}, inplace=True)\n",
    "            WOE_i = IVWOE(df_i)\n",
    "\n",
    "            # задаем промежуточную функцию для WOE преобразования переменной из исходного датафрейма по рассчитанным WOE из IVWOE\n",
    "            def calc_woe_i(row_value):\n",
    "                if row_value not in WOE_i['groups']:\n",
    "                    return 0\n",
    "                else:\n",
    "                    i = 0\n",
    "                    while row_value not in WOE_i['groups'][i]: i += 1\n",
    "                    return WOE_i['WOE'][i]\n",
    "\n",
    "            X_test_WOE['WOE'] = X_test[predictor].apply(calc_woe_i)\n",
    "            roc_auc_i = roc_auc_score(X_test_WOE['Target'], X_test_WOE['WOE'])\n",
    "            \n",
    "            \n",
    "            X_test = pd.merge(X_test, tmp[[predictor, 'Target_transformed']], how='left', on=predictor)\n",
    "            #print(X_test[X_test['Target_transformed'].isna()])\n",
    "            \n",
    "#             print(seed_i)\n",
    "#             print(X_test['Target_transformed'].isnull().sum())\n",
    "#             print(X_test['Target_transformed'].loc[X_test['Target_transformed'].isnull()])\n",
    "#             print(np.isinf(X_test['Target_transformed']).sum())\n",
    "            \n",
    "#             logloss_i.append(log_loss(X_test[target], X_test['Target_transformed']))\n",
    "            logloss_i.append(log_loss(X_test[target], X_test['Target_transformed'].fillna(0)))\n",
    "            IV_i.append(WOE_i['IV'].sum())\n",
    "            GINI_i.append(abs(2 * roc_auc_i - 1))\n",
    "            \n",
    "        L_logloss_mean.append([alpha_i, np.mean(logloss_i)])\n",
    "        GINI_IV_mean.append([alpha_i, np.mean(GINI_i), np.mean(IV_i)])\n",
    "        \n",
    "    df_cat_features_alpha_GINI_IV = pd.DataFrame(GINI_IV_mean, columns=['alpha', 'GINI', 'IV'])\n",
    "    \n",
    "    df_cat_features_alpha_logloss = pd.DataFrame(L_logloss_mean, columns=['alpha', 'logloss'])\n",
    "    logloss_min = df_cat_features_alpha_logloss['logloss'].min()\n",
    "    alpha_opt = df_cat_features_alpha_logloss[df_cat_features_alpha_logloss['logloss'] == logloss_min]['alpha'].values[0]\n",
    "    \n",
    "#     print('feature =', predictor)\n",
    "#     print('log loss min =', logloss_min)\n",
    "#     print('alpha optimum =', alpha_opt)\n",
    "    \n",
    "    if plot_i:\n",
    "        fig = plt.figure(figsize=(16, 8))\n",
    "        ax = fig.add_subplot(111)\n",
    "        ax.plot(df_cat_features_alpha_logloss['alpha'], df_cat_features_alpha_logloss['logloss'], label = 'logloss_test', marker='o', ms = 3, color = 'red')\n",
    "        ax2 = ax.twinx()\n",
    "        ax2.plot(df_cat_features_alpha_GINI_IV['alpha'], df_cat_features_alpha_GINI_IV['IV'], label = 'IV_train', marker='o', ms = 3, color = 'blue')\n",
    "        ax2.plot(df_cat_features_alpha_GINI_IV['alpha'], df_cat_features_alpha_GINI_IV['GINI'], label = 'GINI_test', marker='o', ms = 3, color = 'green')\n",
    "        \n",
    "        ax_y_step = (max(df_cat_features_alpha_logloss['logloss']) - min(df_cat_features_alpha_logloss['logloss'])) * 0.1\n",
    "        ax_y_min = min(df_cat_features_alpha_logloss['logloss']) - ax_y_step\n",
    "        ax_y_max = max(df_cat_features_alpha_logloss['logloss']) + ax_y_step\n",
    "        ax.set_ylim(ax_y_min, ax_y_max)\n",
    "        \n",
    "        ax2_y_step = (max(max(df_cat_features_alpha_GINI_IV['IV']), max(df_cat_features_alpha_GINI_IV['GINI'])) - min(min(df_cat_features_alpha_GINI_IV['IV']), min(df_cat_features_alpha_GINI_IV['GINI']))) * 0.1\n",
    "        ax2_y_min = min(min(df_cat_features_alpha_GINI_IV['IV']), min(df_cat_features_alpha_GINI_IV['GINI'])) - ax2_y_step\n",
    "        ax2_y_max = max(max(df_cat_features_alpha_GINI_IV['IV']), max(df_cat_features_alpha_GINI_IV['GINI'])) + ax2_y_step\n",
    "        ax2.set_ylim(ax2_y_min, ax2_y_max)\n",
    "        \n",
    "        ax.tick_params(axis=\"x\", labelsize=12)\n",
    "        ax2.tick_params(axis=\"x\", labelsize=12)\n",
    "        ax.set_xlabel('alpha', fontsize=16)\n",
    "        ax.set_ylabel('logloss', fontsize=16)\n",
    "        ax2.set_ylabel('GINI and IV', fontsize=16)\n",
    "        ax.legend(loc = \"upper left\")\n",
    "        ax2.legend(loc = \"upper right\")\n",
    "        plt.grid(True)\n",
    "        plt.title('Распределение logloss, GINI и IV от значения alpha', fontsize=20)\n",
    "        plt.show()\n",
    "    \n",
    "    return(alpha_opt)"
   ]
  },
  {
   "cell_type": "code",
   "execution_count": null,
   "metadata": {},
   "outputs": [],
   "source": []
  }
 ],
 "metadata": {
  "jupytext": {
   "cell_metadata_filter": "all",
   "encoding": "# -*- coding: utf-8 -*-",
   "notebook_metadata_filter": "all,-language_info",
   "text_representation": {
    "extension": ".py",
    "format_name": "percent",
    "format_version": "1.3",
    "jupytext_version": "1.3.2"
   }
  },
  "kernelspec": {
   "display_name": "Python 3",
   "language": "python",
   "name": "python3"
  },
  "language_info": {
   "codemirror_mode": {
    "name": "ipython",
    "version": 3
   },
   "file_extension": ".py",
   "mimetype": "text/x-python",
   "name": "python",
   "nbconvert_exporter": "python",
   "pygments_lexer": "ipython3",
   "version": "3.7.3"
  },
  "toc": {
   "base_numbering": 1,
   "nav_menu": {},
   "number_sections": false,
   "sideBar": true,
   "skip_h1_title": false,
   "title_cell": "Table of Contents",
   "title_sidebar": "Contents",
   "toc_cell": false,
   "toc_position": {},
   "toc_section_display": true,
   "toc_window_display": false
  }
 },
 "nbformat": 4,
 "nbformat_minor": 4
}
